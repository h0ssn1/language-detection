{
 "cells": [
  {
   "cell_type": "code",
   "execution_count": 2,
   "id": "3efcc4ab-d2fc-417b-82ec-7a6d7be60374",
   "metadata": {},
   "outputs": [],
   "source": [
    "\n",
    "import numpy as np\n",
    "import pandas as pd\n",
    "from sklearn.preprocessing import LabelEncoder\n",
    "import matplotlib.pyplot as plt\n",
    "import seaborn as sn\n",
    "from sklearn.metrics import confusion_matrix\n",
    "import itertools\n",
    "import re\n",
    "import nltk\n",
    "from nltk import word_tokenize\n",
    "from sklearn.model_selection import train_test_split\n",
    "from sklearn.metrics import accuracy_score\n",
    "from sklearn.feature_extraction.text import CountVectorizer, TfidfVectorizer\n",
    "from sklearn.naive_bayes import MultinomialNB\n",
    "from sklearn.ensemble import RandomForestClassifier, AdaBoostClassifier\n",
    "from sklearn.tree import DecisionTreeClassifier\n",
    "from sklearn.svm import SVC\n",
    "import io\n",
    "import warnings "
   ]
  },
  {
   "cell_type": "code",
   "execution_count": 6,
   "id": "7e2e25fb-dad0-4640-aeba-4eb926499254",
   "metadata": {},
   "outputs": [
    {
     "name": "stdout",
     "output_type": "stream",
     "text": [
      "Done:  Random Forest\n",
      "Done:  Decision Tree\n",
      "                Random Forest Decision Tree\n",
      "CountVectorizer         48.88         46.17\n",
      "TF-IDF                  49.07         46.96\n"
     ]
    }
   ],
   "source": [
    "def evaluate(model_name, x_train, x_test, y_train, y_test):\n",
    "    if model_name == 'Random Forest':\n",
    "        model = RandomForestClassifier()\n",
    "    elif model_name == 'Decision Tree':\n",
    "        model = DecisionTreeClassifier()\n",
    "    \n",
    "\n",
    "    model.fit(x_train, y_train)\n",
    "    predictions = model.predict(x_test)\n",
    "    accuracy = accuracy_score(y_test, predictions)\n",
    "    return accuracy\n",
    "\n",
    "def cv_designer(X, min_df, max_features):\n",
    "    cnt_vct = CountVectorizer(analyzer='word', min_df=min_df, max_features=max_features)\n",
    "    X_cv = cnt_vct.fit_transform(X['text'])\n",
    "    X = pd.DataFrame(X_cv.toarray(), columns=cnt_vct.get_feature_names())\n",
    "    x_train = X[:50333]\n",
    "    x_test = X[50333:]\n",
    "    return x_train, x_test\n",
    "\n",
    "def tf_designer(X, min_df, max_features):\n",
    "    tf_vct = TfidfVectorizer(analyzer='word', min_df=min_df, max_features=max_features)\n",
    "    X_tf = tf_vct.fit_transform(X['text'])\n",
    "    X = pd.DataFrame(X_tf.toarray(), columns=tf_vct.get_feature_names())\n",
    "    x_train = X[:50333]\n",
    "    x_test = X[50333:]\n",
    "    return x_train, x_test\n",
    "\n",
    "def main():\n",
    "    min_df = 5\n",
    "    max_features = 500 # 50000\n",
    "    model_names = ['Random Forest','Decision Tree']\n",
    "    results = pd.DataFrame(columns=model_names, index=['CountVectorizer', 'TF-IDF'])\n",
    "\n",
    "    train_data = pd.read_csv(r\"C:/Users/User/Desktop/semeval/train.csv\", on_bad_lines='skip', encoding=\"utf8\" )\n",
    "    test_data = pd.read_csv(r\"C:/Users/User/Desktop/semeval/test.csv\", on_bad_lines='skip', encoding=\"utf8\")\n",
    "\n",
    "    x_train = train_data.drop(['id', 'label'], axis=1)\n",
    "    y_train = train_data['label']\n",
    "    x_test = test_data.drop(['id', 'label'], axis=1)\n",
    "    y_test = test_data['label']\n",
    " \n",
    "\n",
    "    X = x_train.append(x_test, ignore_index=True)\n",
    "\n",
    "    for model_name in model_names:\n",
    "        x_train, x_test = cv_designer(X, min_df, max_features)\n",
    "        results.loc['CountVectorizer'][model_name] = '{:.2f}'.format(evaluate(model_name, x_train, x_test, y_train, y_test) * 100)\n",
    "        x_train, x_test = tf_designer(X, min_df, max_features)\n",
    "        results.loc['TF-IDF'][model_name] = '{:.2f}'.format(evaluate(model_name, x_train, x_test, y_train, y_test) * 100)\n",
    "        print('Done: ', model_name)\n",
    "\n",
    "    results.to_csv('machine_learning_models_results.csv')\n",
    "    print(results)\n",
    "\n",
    "main()"
   ]
  },
  {
   "cell_type": "code",
   "execution_count": null,
   "id": "4dbd6284-9f2f-4b76-aedb-427b7e5c8ac6",
   "metadata": {},
   "outputs": [],
   "source": []
  },
  {
   "cell_type": "code",
   "execution_count": null,
   "id": "b48bc719-5261-4cd6-a960-c966b08ae0bd",
   "metadata": {},
   "outputs": [],
   "source": []
  }
 ],
 "metadata": {
  "kernelspec": {
   "display_name": "Python 3 (ipykernel)",
   "language": "python",
   "name": "python3"
  },
  "language_info": {
   "codemirror_mode": {
    "name": "ipython",
    "version": 3
   },
   "file_extension": ".py",
   "mimetype": "text/x-python",
   "name": "python",
   "nbconvert_exporter": "python",
   "pygments_lexer": "ipython3",
   "version": "3.9.7"
  }
 },
 "nbformat": 4,
 "nbformat_minor": 5
}
